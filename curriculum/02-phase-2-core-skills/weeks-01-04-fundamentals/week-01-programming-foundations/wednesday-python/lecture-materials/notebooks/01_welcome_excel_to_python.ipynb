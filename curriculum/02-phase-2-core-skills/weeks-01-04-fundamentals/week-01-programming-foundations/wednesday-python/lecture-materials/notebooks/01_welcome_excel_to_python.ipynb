{
  "cells": [
    {
      "cell_type": "markdown",
      "metadata": {
        "id": "welcome-header"
      },
      "source": [
        "# Welcome to Programming! You Already Think Like a Programmer\n",
        "\n",
        "**Week 01 - Wednesday | Python Fundamentals**  \n",
        "*From Excel Expert to Python Programmer*\n",
        "\n",
        "---\n",
        "\n",
        "## Mindset Shift: You're Not Starting From Zero\n",
        "\n",
        "### What You've Been Doing in Excel (Without Realizing It!)\n",
        "\n",
        "When you wrote this Excel formula:\n",
        "```\n",
        "=IF(B2>1000, B2*0.1, B2*0.05)\n",
        "```\n",
        "\n",
        "You were already:\n",
        "- ✅ **Using conditional logic** (IF statements)\n",
        "- ✅ **Referencing variables** (B2 is a variable!)\n",
        "- ✅ **Performing calculations** (mathematical operations)\n",
        "- ✅ **Debugging errors** (fixing #VALUE! errors)\n",
        "\n",
        "### The Only Difference: Syntax\n",
        "\n",
        "| What You Want | Excel Way | Python Way |\n",
        "|---------------|-----------|------------|\n",
        "| Store a value | `A1 = 1000` | `sales_total = 1000` |\n",
        "| Add numbers | `=A1+B1` | `total = sales + tax` |\n",
        "| Check condition | `=IF(A1>100, \"High\", \"Low\")` | `if sales > 100: status = \"High\"` |\n",
        "| Use a function | `=SUM(A1:A10)` | `sum(sales_list)` |\n",
        "\n",
        "**Bottom Line**: Same logic, different spelling!"
      ]
    },
    {
      "cell_type": "markdown",
      "metadata": {
        "id": "yntHbDRmI7R_"
      },
      "source": [
        "## Today's Business Scenario: Olist E-commerce Marketplace\n",
        "\n",
        "### The Story\n",
        "You've just been hired as a Data Analyst at **NaijaCommerce**, a Nigerian e-commerce platform modeled after Brazil's Olist marketplace. Your first task is to understand the business by exploring customer order data.\n",
        "\n",
        "### Your Background\n",
        "- You're an Excel expert who has been analyzing sales data for years\n",
        "- You understand business metrics: revenue, customers, orders, products\n",
        "- You know how to spot patterns and ask good questions about data\n",
        "- You just need to learn how to do the same analysis in Python\n",
        "\n",
        "### Today's Mission\n",
        "Learn to do in Python what you've already been doing in Excel:\n",
        "1. **Open** and **explore** data files\n",
        "2. **Understand** the data structure (columns, rows, data types)\n",
        "3. **Ask basic questions** about the business\n",
        "4. **Calculate simple metrics** to understand performance"
      ]
    },
    {
      "cell_type": "markdown",
      "metadata": {
        "id": "mWU8rXiiI7SC"
      },
      "source": [
        "## Let's Start: Your First Python Code\n",
        "\n",
        "### Traditional Programming \"Hello World\""
      ]
    },
    {
      "cell_type": "code",
      "execution_count": 3,
      "metadata": {
        "id": "WkrPUnILI7SD",
        "outputId": "93dafb65-d6b1-4ded-f5c5-dea7ece90f0e",
        "colab": {
          "base_uri": "https://localhost:8080/"
        }
      },
      "outputs": [
        {
          "output_type": "stream",
          "name": "stdout",
          "text": [
            "Hello World!\n",
            "I'm learning Python for data analysis!\n"
          ]
        }
      ],
      "source": [
        "# This is a comment - it doesn't run, just explains code\n",
        "# Comments are like adding notes in Excel cells\n",
        "\n",
        "print(\"Hello World!\")\n",
        "print(\"I'm learning Python for data analysis!\")"
      ]
    },
    {
      "cell_type": "markdown",
      "metadata": {
        "id": "ObgASnZxI7SG"
      },
      "source": [
        "### Business-Focused \"Hello World\""
      ]
    },
    {
      "cell_type": "code",
      "execution_count": 4,
      "metadata": {
        "id": "iCX0S3k8I7SH",
        "outputId": "b4d3dec0-c137-4e50-9943-e7e5737795ae",
        "colab": {
          "base_uri": "https://localhost:8080/"
        }
      },
      "outputs": [
        {
          "output_type": "stream",
          "name": "stdout",
          "text": [
            "Welcome to NaijaCommerce!\n",
            "Monthly Revenue: ₦50,000\n",
            "Active Customers: 1,250\n",
            "Average Revenue per Customer: ₦40.00\n"
          ]
        }
      ],
      "source": [
        "# Let's make it relevant to our e-commerce business\n",
        "company_name = \"NaijaCommerce\"\n",
        "monthly_revenue = 50000  # in Naira\n",
        "number_of_customers = 1250\n",
        "\n",
        "print(f\"Welcome to {company_name}!\")\n",
        "print(f\"Monthly Revenue: ₦{monthly_revenue:,}\")\n",
        "print(f\"Active Customers: {number_of_customers:,}\")\n",
        "\n",
        "# Calculate average revenue per customer (like in Excel)\n",
        "avg_revenue_per_customer = monthly_revenue / number_of_customers\n",
        "print(f\"Average Revenue per Customer: ₦{avg_revenue_per_customer:.2f}\")"
      ]
    },
    {
      "cell_type": "markdown",
      "metadata": {
        "id": "oKk-8Z8nI7SJ"
      },
      "source": [
        "**🎉 Congratulations! You just wrote your first Python program!**\n",
        "\n",
        "### What Just Happened? (Excel Translation)\n",
        "- `company_name = \"NaijaCommerce\"` → Like typing \"NaijaCommerce\" in cell A1\n",
        "- `monthly_revenue = 50000` → Like typing 50000 in cell B1\n",
        "- `print()` → Like viewing the result of a formula\n",
        "- `avg_revenue_per_customer = monthly_revenue / number_of_customers` → Like writing `=B1/C1` in Excel"
      ]
    },
    {
      "cell_type": "markdown",
      "metadata": {
        "id": "8LWM5fZiI7SK"
      },
      "source": [
        "## Quick Exercise: Make It Yours\n",
        "\n",
        "**Instructions**: Modify the code above to reflect a Nigerian business you know:\n",
        "- Change the company name\n",
        "- Update the revenue and customer numbers\n",
        "- Add one more calculation (maybe conversion from Naira to USD?)\n",
        "\n",
        "**Try it in the cell below**:"
      ]
    },
    {
      "cell_type": "code",
      "execution_count": 7,
      "metadata": {
        "id": "kizYCsvlI7SL",
        "outputId": "441b4643-6e63-4254-f268-da1d0f9050ca",
        "colab": {
          "base_uri": "https://localhost:8080/"
        }
      },
      "outputs": [
        {
          "output_type": "stream",
          "name": "stdout",
          "text": [
            "Welcome to The Shining Light Company\n",
            "Monthly Revenue: ₦100,000\n",
            "Active Customers: 2000\n",
            "Average Revenue per Customer: ₦40.00\n"
          ]
        }
      ],
      "source": [
        "# Your turn! Create variables for your business scenario\n",
        "my_company = \"The Shining Light Company\"  # Replace with your company name\n",
        "my_revenue = 100000   # Replace with a realistic revenue number\n",
        "my_customers = 2000 # Replace with customer count\n",
        "avg_revenue_per_customer = monthly_revenue / number_of_customers\n",
        "\n",
        "# Add your calculations here\n",
        "print(f\"Welcome to {my_company}\")\n",
        "print(f\"Monthly Revenue: ₦{my_revenue:,}\")\n",
        "print(f\"Active Customers: {my_customers}\")\n",
        "print(f\"Average Revenue per Customer: ₦{avg_revenue_per_customer:.2f}\")\n",
        "\n",
        "# Add more print statements..."
      ]
    },
    {
      "cell_type": "code",
      "source": [],
      "metadata": {
        "id": "5dfgeeHMSa7Q"
      },
      "execution_count": null,
      "outputs": []
    },
    {
      "cell_type": "markdown",
      "metadata": {
        "id": "sKmp54aEI7SN"
      },
      "source": [
        "## Common First-Time Mistakes (Don't Worry, Everyone Makes These!)\n",
        "\n",
        "### 1. Forgetting Quotes for Text\n",
        "```python\n",
        "# ❌ This will cause an error\n",
        "company_name = NaijaCommerce\n",
        "\n",
        "# ✅ This works\n",
        "company_name = \"NaijaCommerce\"\n",
        "```\n",
        "\n",
        "### 2. Mixing Up Variable Names\n",
        "```python\n",
        "# ❌ This will cause an error (typo in variable name)\n",
        "monthly_revenue = 50000\n",
        "print(montly_revenue)  # Missing 'h'\n",
        "\n",
        "# ✅ This works\n",
        "monthly_revenue = 50000\n",
        "print(monthly_revenue)\n",
        "```\n",
        "\n",
        "### 3. Excel Thinking: Using Spaces in Variable Names\n",
        "```python\n",
        "# ❌ This doesn't work in Python (but you'd do it in Excel)\n",
        "monthly revenue = 50000\n",
        "\n",
        "# ✅ Use underscores instead\n",
        "monthly_revenue = 50000\n",
        "```"
      ]
    },
    {
      "cell_type": "markdown",
      "metadata": {
        "id": "aQf3qASoI7SP"
      },
      "source": [
        "## Your Learning Path Today\n",
        "\n",
        "```\n",
        "Excel Skills You Have → Python Skills You'll Learn\n",
        "├── Named Cells → Variables\n",
        "├── Column Ranges → Lists  \n",
        "├── Lookup Tables → Dictionaries\n",
        "├── Worksheets → DataFrames\n",
        "├── Opening Files → Loading Data\n",
        "└── Summary Stats → Data Exploration\n",
        "```\n",
        "\n",
        "### Remember:\n",
        "- **Every** concept has an Excel equivalent\n",
        "- **Errors** are normal and helpful (like Excel's #VALUE! errors)\n",
        "- **Practice** makes perfect (like learning VLOOKUP)\n",
        "- **You've got this!** You already think like a programmer"
      ]
    },
    {
      "cell_type": "markdown",
      "metadata": {
        "id": "x0sgjHTlI7SQ"
      },
      "source": [
        "## Ready for the Real Fun?\n",
        "\n",
        "In the next notebook, we'll dive deeper into:\n",
        "- Creating and using variables for business calculations\n",
        "- Understanding different data types (numbers, text, yes/no)\n",
        "- Making Python work with Nigerian business scenarios\n",
        "\n",
        "**Click to continue**: `02_variables_and_data_types.ipynb`\n",
        "\n",
        "---\n",
        "\n",
        "*Remember: You're not learning a completely new skill. You're learning a new way to express the data analysis skills you already have!*"
      ]
    }
  ],
  "metadata": {
    "kernelspec": {
      "display_name": "Python 3",
      "language": "python",
      "name": "python3"
    },
    "language_info": {
      "codemirror_mode": {
        "name": "ipython",
        "version": 3
      },
      "file_extension": ".py",
      "name": "python",
      "nbconvert_exporter": "python",
      "pygments_lexer": "ipython3",
      "version": "3.8.5"
    },
    "colab": {
      "provenance": []
    }
  },
  "nbformat": 4,
  "nbformat_minor": 0
}