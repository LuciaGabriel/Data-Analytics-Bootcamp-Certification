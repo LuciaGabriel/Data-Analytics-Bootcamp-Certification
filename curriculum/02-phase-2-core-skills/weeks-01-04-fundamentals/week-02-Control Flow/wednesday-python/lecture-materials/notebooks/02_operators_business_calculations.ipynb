{
  "cells": [
    {
      "cell_type": "markdown",
      "metadata": {
        "id": "2DhO7NsqqDHS"
      },
      "source": [
        "# Week 2 Python Session: Arithmetic Operations & Control Structures\n",
        "## Synchronized with Thursday SQL Session - Using Olist-Compatible Data\n",
        "\n",
        "**Learning Objectives:**\n",
        "- Apply arithmetic operators for business calculations\n",
        "- Use conditional statements (if/elif/else) for automated decision-making\n",
        "- Implement loops for repetitive business tasks\n",
        "- Connect Python operations to SQL equivalents using same datasets\n",
        "\n",
        "**Nigerian E-commerce Context:** We're analyzing NaijaCommerce data using the same structure as the Olist database that we'll query in SQL tomorrow."
      ]
    },
    {
      "cell_type": "markdown",
      "metadata": {
        "id": "zTEOG85UqDHV"
      },
      "source": [
        "## Section 1: Arithmetic Operations for Business Calculations\n",
        "### Loading Our Nigerian E-commerce Data"
      ]
    },
    {
      "cell_type": "code",
      "execution_count": null,
      "metadata": {
        "id": "iLwRfvlaqDHW",
        "outputId": "5bdaf71f-8152-436b-a891-d04b27c810c2"
      },
      "outputs": [
        {
          "name": "stdout",
          "output_type": "stream",
          "text": [
            "Dataset Overview:\n",
            "Customers: 30 records\n",
            "Orders: 20 records\n",
            "Order Items: 25 records\n",
            "Products: 23 records\n",
            "Payments: 21 records\n"
          ]
        }
      ],
      "source": [
        "import pandas as pd\n",
        "import numpy as np\n",
        "\n",
        "# Load our Nigerian Olist-compatible datasets\n",
        "customers = pd.read_csv(r\"../../../datasets/olist_customers_dataset.csv\")\n",
        "orders = pd.read_csv(r'../../../datasets/olist_orders_dataset.csv')\n",
        "order_items = pd.read_csv('../../../datasets/olist_order_items_dataset.csv')\n",
        "products = pd.read_csv('../../../datasets/olist_products_dataset.csv')\n",
        "payments = pd.read_csv('../../../datasets/olist_order_payments_dataset.csv')\n",
        "\n",
        "print(\"Dataset Overview:\")\n",
        "print(f\"Customers: {len(customers)} records\")\n",
        "print(f\"Orders: {len(orders)} records\")\n",
        "print(f\"Order Items: {len(order_items)} records\")\n",
        "print(f\"Products: {len(products)} records\")\n",
        "print(f\"Payments: {len(payments)} records\")"
      ]
    },
    {
      "cell_type": "markdown",
      "metadata": {
        "id": "NYh2X_K3qDHX"
      },
      "source": [
        "### Business Calculation 1: Total Order Values with Shipping\n",
        "**Python Arithmetic:** Using +, *, / operators for business calculations"
      ]
    },
    {
      "cell_type": "code",
      "execution_count": null,
      "metadata": {
        "id": "qYa1TnReqDHX"
      },
      "outputs": [],
      "source": [
        "# Business calculation: Total cost per order item (price + shipping)\n",
        "# Tomorrow in SQL: SELECT price + freight_value AS total_cost FROM olist_order_items_dataset\n",
        "\n",
        "order_items['total_cost'] = order_items['price'] + order_items['freight_value']\n",
        "\n",
        "print(\"Order Items with Total Costs:\")\n",
        "print(order_items[['order_id', 'price', 'freight_value', 'total_cost']].head())\n",
        "\n",
        "# Calculate average shipping cost\n",
        "average_shipping = order_items['freight_value'].mean()\n",
        "print(f\"\\nAverage shipping cost: ₦{average_shipping:,.2f}\")"
      ]
    },
    {
      "cell_type": "markdown",
      "metadata": {
        "id": "Yfy8i089qDHY"
      },
      "source": [
        "### Business Calculation 2: VAT and Tax Calculations\n",
        "**Python Arithmetic:** Using *, ** operators for percentage and compound calculations"
      ]
    },
    {
      "cell_type": "code",
      "execution_count": null,
      "metadata": {
        "id": "DQnqTdzrqDHY"
      },
      "outputs": [],
      "source": [
        "# Business calculation: Add 7.5% VAT to all prices\n",
        "# Tomorrow in SQL: SELECT price * 1.075 AS price_with_vat FROM olist_order_items_dataset\n",
        "\n",
        "VAT_RATE = 0.075\n",
        "order_items['price_with_vat'] = order_items['price'] * (1 + VAT_RATE)\n",
        "\n",
        "print(\"Prices with VAT Added:\")\n",
        "print(order_items[['order_id', 'price', 'price_with_vat']].head())\n",
        "\n",
        "# Calculate total VAT collected\n",
        "total_vat_collected = (order_items['price'] * VAT_RATE).sum()\n",
        "print(f\"\\nTotal VAT collected: ₦{total_vat_collected:,.2f}\")"
      ]
    },
    {
      "cell_type": "markdown",
      "metadata": {
        "id": "CNKCmv0GqDHZ"
      },
      "source": [
        "## Section 2: Conditional Statements for Business Rules\n",
        "### Customer Tier Assignment Based on Order Values"
      ]
    },
    {
      "cell_type": "code",
      "execution_count": null,
      "metadata": {
        "id": "ngouBoKFqDHZ"
      },
      "outputs": [],
      "source": [
        "# Business rule: Categorize orders by value\n",
        "# Tomorrow in SQL: CASE WHEN price >= 40000 THEN 'Premium' WHEN price >= 20000 THEN 'Standard' ELSE 'Basic' END\n",
        "\n",
        "def categorize_order_value(price):\n",
        "    if price >= 40000:\n",
        "        return 'Premium'\n",
        "    elif price >= 20000:\n",
        "        return 'Standard'\n",
        "    else:\n",
        "        return 'Basic'\n",
        "\n",
        "order_items['price_tier'] = order_items['price'].apply(categorize_order_value)\n",
        "\n",
        "print(\"Order Price Tiers:\")\n",
        "print(order_items[['order_id', 'price', 'price_tier']].head(10))\n",
        "\n",
        "# Count orders by tier\n",
        "tier_counts = order_items['price_tier'].value_counts()\n",
        "print(\"\\nOrders by Price Tier:\")\n",
        "print(tier_counts)"
      ]
    },
    {
      "cell_type": "markdown",
      "metadata": {
        "id": "13NZ67P1qDHa"
      },
      "source": [
        "### Dynamic Shipping Cost Calculation\n",
        "**Conditional Logic:** Using if/elif/else for complex business rules"
      ]
    },
    {
      "cell_type": "code",
      "execution_count": null,
      "metadata": {
        "id": "BYAkI_IMqDHa"
      },
      "outputs": [],
      "source": [
        "# Business rule: Calculate shipping discount based on order value\n",
        "# Tomorrow in SQL: CASE WHEN price >= 30000 THEN 0 WHEN price >= 15000 THEN freight_value * 0.5 ELSE freight_value END\n",
        "\n",
        "def calculate_shipping_discount(price, freight_value):\n",
        "    if price >= 30000:\n",
        "        return 0  # Free shipping for high-value orders\n",
        "    elif price >= 15000:\n",
        "        return freight_value * 0.5  # 50% shipping discount\n",
        "    else:\n",
        "        return freight_value  # Full shipping cost\n",
        "\n",
        "order_items['final_shipping'] = order_items.apply(\n",
        "    lambda row: calculate_shipping_discount(row['price'], row['freight_value']),\n",
        "    axis=1\n",
        ")\n",
        "\n",
        "print(\"Shipping Cost with Discounts:\")\n",
        "print(order_items[['order_id', 'price', 'freight_value', 'final_shipping']].head(10))\n",
        "\n",
        "# Calculate total shipping savings\n",
        "shipping_savings = (order_items['freight_value'] - order_items['final_shipping']).sum()\n",
        "print(f\"\\nTotal shipping savings offered: ₦{shipping_savings:,.2f}\")"
      ]
    },
    {
      "cell_type": "markdown",
      "metadata": {
        "id": "8n48qunyqDHa"
      },
      "source": [
        "## Section 3: Loops for Business Automation\n",
        "### Processing Orders by Customer State"
      ]
    },
    {
      "cell_type": "code",
      "execution_count": null,
      "metadata": {
        "id": "UNd7-rWcqDHa"
      },
      "outputs": [],
      "source": [
        "# Business automation: Analyze orders by Nigerian states\n",
        "# Tomorrow in SQL: GROUP BY customer_state with CASE WHEN statements\n",
        "\n",
        "# Merge data to get customer states with orders\n",
        "order_customer_data = orders.merge(customers, on='customer_id')\n",
        "order_details = order_customer_data.merge(order_items, on='order_id')\n",
        "\n",
        "print(\"Order Analysis by State:\")\n",
        "print(\"-\" * 50)\n",
        "\n",
        "# Process each state\n",
        "state_analysis = {}\n",
        "for state in order_details['customer_state'].unique():\n",
        "    state_orders = order_details[order_details['customer_state'] == state]\n",
        "\n",
        "    total_orders = len(state_orders)\n",
        "    total_revenue = state_orders['price'].sum()\n",
        "    avg_order_value = state_orders['price'].mean()\n",
        "\n",
        "    # Business rule: Categorize state performance\n",
        "    if total_revenue >= 100000:\n",
        "        performance = 'High Performance'\n",
        "    elif total_revenue >= 50000:\n",
        "        performance = 'Medium Performance'\n",
        "    else:\n",
        "        performance = 'Developing Market'\n",
        "\n",
        "    state_analysis[state] = {\n",
        "        'orders': total_orders,\n",
        "        'revenue': total_revenue,\n",
        "        'avg_value': avg_order_value,\n",
        "        'performance': performance\n",
        "    }\n",
        "\n",
        "    print(f\"{state}: {total_orders} orders, ₦{total_revenue:,.2f} revenue - {performance}\")\n",
        "\n",
        "print(f\"\\nTotal states analyzed: {len(state_analysis)}\")"
      ]
    },
    {
      "cell_type": "markdown",
      "metadata": {
        "id": "2ekc_Mn5qDHb"
      },
      "source": [
        "## Summary: Python → SQL Connections\n",
        "### Tomorrow's SQL Session Preview\n",
        "\n",
        "**Python Operators → SQL Equivalents:**\n",
        "- `price + freight_value` → `SELECT price + freight_value`\n",
        "- `price * 1.075` → `SELECT price * 1.075`\n",
        "- `if/elif/else` → `CASE WHEN/THEN/ELSE END`\n",
        "- `for loops with conditions` → `GROUP BY with CASE WHEN`\n",
        "\n",
        "**Same Business Logic, Different Tools:**\n",
        "- Customer tiers, shipping discounts, loyalty scoring\n",
        "- Identical datasets and column names\n",
        "- Same business calculations and results\n",
        "\n",
        "**Key Learning:** Both Python and SQL can automate the same business decisions - we just change the syntax!"
      ]
    }
  ],
  "metadata": {
    "kernelspec": {
      "display_name": ".venv (3.12.3)",
      "language": "python",
      "name": "python3"
    },
    "language_info": {
      "codemirror_mode": {
        "name": "ipython",
        "version": 3
      },
      "file_extension": ".py",
      "mimetype": "text/x-python",
      "name": "python",
      "nbconvert_exporter": "python",
      "pygments_lexer": "ipython3",
      "version": "3.12.3"
    },
    "colab": {
      "provenance": []
    }
  },
  "nbformat": 4,
  "nbformat_minor": 0
}